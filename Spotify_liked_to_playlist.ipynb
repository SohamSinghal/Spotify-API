{
  "nbformat": 4,
  "nbformat_minor": 0,
  "metadata": {
    "colab": {
      "provenance": []
    },
    "kernelspec": {
      "name": "python3",
      "display_name": "Python 3"
    },
    "language_info": {
      "name": "python"
    }
  },
  "cells": [
    {
      "cell_type": "markdown",
      "source": [
        "<h2>Getting User ID</h2>\n",
        "<a href = \"https://www.spotify.com/us/account/overview/\">Account Overview</a>\n",
        "<h2>Get Token by using the User ID</h2>\n",
        "<a href = \"https://developer.spotify.com/console/post-playlists/\">Token Generator </a>\n"
      ],
      "metadata": {
        "id": "vtLPlAHMUaUt"
      }
    },
    {
      "cell_type": "code",
      "execution_count": 1,
      "metadata": {
        "id": "AGIdf7KNT8uX"
      },
      "outputs": [],
      "source": [
        "import requests \n",
        "import json"
      ]
    },
    {
      "cell_type": "code",
      "source": [
        "user_id = \"31322g2iyb53g6dqgrwnqruhq5le\"\n",
        "#user token to be created everytime as it expires\n",
        "user_token = \"BQC5D25urEu_qPJWk-93LCwdvcOTjuDRUbfP1aOZicdHRwA9FlC07uBRft_qYcCDMKxgpa_GCGYw2x0O19LcPPilkZH3lwXT8vHEyHN_WmE_sjdhktpixW7uc-kPTFmg8v0ttjlt1lP3xF1TPj2WMlE986vQe103EbuHx6TbFAqUk75hVKozN3Yy7MlfnDwW6Tw9TqkxTWRHQSTgLx-6LY1Sar_8ewJ-0gzkcIOgrqKjIyMhTQ6NdqDjK8W6qK9ZgSI\""
      ],
      "metadata": {
        "id": "1l9mkoMRUCW4"
      },
      "execution_count": 2,
      "outputs": []
    },
    {
      "cell_type": "code",
      "source": [
        "#Check if user id and token is correct\n",
        "query = \"https://api.spotify.com/v1/me\"\n",
        "response = requests.get(query,headers = {\"Content-Type\":\"application/json\",\"Authorization\":f\"Bearer {user_token}\"})\n",
        "json_response = response.json()\n",
        "json_response"
      ],
      "metadata": {
        "colab": {
          "base_uri": "https://localhost:8080/"
        },
        "id": "0RbUoCz0YvWb",
        "outputId": "1cac2e61-860f-46b6-ceae-a58fbfdc903b"
      },
      "execution_count": 3,
      "outputs": [
        {
          "output_type": "execute_result",
          "data": {
            "text/plain": [
              "{'country': 'IN',\n",
              " 'display_name': 'Soham Singhal',\n",
              " 'explicit_content': {'filter_enabled': False, 'filter_locked': False},\n",
              " 'external_urls': {'spotify': 'https://open.spotify.com/user/31322g2iyb53g6dqgrwnqruhq5le'},\n",
              " 'followers': {'href': None, 'total': 1},\n",
              " 'href': 'https://api.spotify.com/v1/users/31322g2iyb53g6dqgrwnqruhq5le',\n",
              " 'id': '31322g2iyb53g6dqgrwnqruhq5le',\n",
              " 'images': [{'height': None,\n",
              "   'url': 'https://platform-lookaside.fbsbx.com/platform/profilepic/?asid=1766232820359488&height=300&width=300&ext=1668178595&hash=AeQDCYheCgFNCXvWZDI',\n",
              "   'width': None}],\n",
              " 'product': 'open',\n",
              " 'type': 'user',\n",
              " 'uri': 'spotify:user:31322g2iyb53g6dqgrwnqruhq5le'}"
            ]
          },
          "metadata": {},
          "execution_count": 3
        }
      ]
    },
    {
      "cell_type": "markdown",
      "source": [
        "Getting number of liked songs"
      ],
      "metadata": {
        "id": "m27Pqp9nXHkG"
      }
    },
    {
      "cell_type": "code",
      "source": [
        "query = 'https://api.spotify.com/v1/me/tracks?market=IN&ids=31322g2iyb53g6dqgrwnqruhq5le'\n",
        "response = requests.get(query,headers = {\"Content-Type\":\"application/json\",\"Authorization\":f\"Bearer {user_token}\",})\n",
        "json_response = response.json()\n",
        "total_liked_songs = json_response['total']\n",
        "print(total_liked_songs)"
      ],
      "metadata": {
        "colab": {
          "base_uri": "https://localhost:8080/"
        },
        "id": "tzMXEBJyWM_m",
        "outputId": "107dbcf1-9cd5-4946-b483-478eb6e21c00"
      },
      "execution_count": 4,
      "outputs": [
        {
          "output_type": "stream",
          "name": "stdout",
          "text": [
            "410\n"
          ]
        }
      ]
    },
    {
      "cell_type": "markdown",
      "source": [
        "Getting all liked songs names and urls"
      ],
      "metadata": {
        "id": "f9thQx12rI-t"
      }
    },
    {
      "cell_type": "code",
      "source": [
        "total_tracks_gathered = 0\n",
        "uri = []\n",
        "while total_tracks_gathered<total_liked_songs:\n",
        "  query = f'https://api.spotify.com/v1/me/tracks?offset={total_tracks_gathered}&limit=50'\n",
        "  response = requests.get(query,headers = {\"Content-Type\":\"application/json\",\"Authorization\":f\"Bearer {user_token}\",})\n",
        "  json_response = response.json()\n",
        "  for j in json_response['items']:\n",
        "    uri.append(j['track']['uri'])\n",
        "    total_tracks_gathered += 1\n",
        "print(total_tracks_gathered)"
      ],
      "metadata": {
        "colab": {
          "base_uri": "https://localhost:8080/"
        },
        "id": "3AlYur2DrvWC",
        "outputId": "1210149f-ccfb-40aa-dfa3-fe37d3ac0104"
      },
      "execution_count": 6,
      "outputs": [
        {
          "output_type": "stream",
          "name": "stdout",
          "text": [
            "410\n"
          ]
        }
      ]
    },
    {
      "cell_type": "markdown",
      "source": [
        "Creating a playlist"
      ],
      "metadata": {
        "id": "nq89nUOrygur"
      }
    },
    {
      "cell_type": "code",
      "source": [],
      "metadata": {
        "id": "iXBK888nyb6l"
      },
      "execution_count": null,
      "outputs": []
    }
  ]
}