{
  "cells": [
    {
      "cell_type": "markdown",
      "metadata": {
        "id": "vtLPlAHMUaUt"
      },
      "source": [
        "<h2>Getting User ID</h2>\n",
        "<a href = \"https://www.spotify.com/us/account/overview/\">Account Overview</a>\n",
        "<h2>Get Token by using the User ID</h2>\n",
        "<h3>Make sure you tick the following scopes</h3>\n",
        "<>\n",
        "<a href = \"https://developer.spotify.com/console/post-playlists/\">Token Generator </a>\n"
      ]
    },
    {
      "cell_type": "code",
      "execution_count": 10,
      "metadata": {
        "id": "AGIdf7KNT8uX"
      },
      "outputs": [],
      "source": [
        "import requests \n",
        "import json"
      ]
    },
    {
      "cell_type": "code",
      "execution_count": 11,
      "metadata": {
        "id": "1l9mkoMRUCW4"
      },
      "outputs": [],
      "source": [
        "user_id = \"31322g2iyb53g6dqgrwnqruhq5le\"\n",
        "#user token to be created everytime as it expires\n",
        "user_token = \"BQAYZfkHUkQhEoi-6Wsbr7RAn_GL9FOpLPOv32OTMIc5exZteKUOk_k6JlyDpSYUEkfd5S2WSqoGAVTzsQbg5707z5ugWGm83bLH-9pNXigajlAfgS9L8oxe8EycOQgBYZE3Enkr16Ma6aGh09W79ho86mPMqMCtcaEkqqiKehEVl0oiGxkdpKwvgcAZNpthJV7bYQI1eb3ksz2aKbtI6LNAPbFPOYCZotrBoOlKhPEOFCtbuop51n_9aPap5z-SM1bae7IhmV7J68TWQIcVow\""
      ]
    },
    {
      "cell_type": "code",
      "execution_count": 12,
      "metadata": {
        "colab": {
          "base_uri": "https://localhost:8080/"
        },
        "id": "0RbUoCz0YvWb",
        "outputId": "1cac2e61-860f-46b6-ceae-a58fbfdc903b"
      },
      "outputs": [
        {
          "data": {
            "text/plain": [
              "{'display_name': 'Soham Singhal',\n",
              " 'external_urls': {'spotify': 'https://open.spotify.com/user/31322g2iyb53g6dqgrwnqruhq5le'},\n",
              " 'followers': {'href': None, 'total': 1},\n",
              " 'href': 'https://api.spotify.com/v1/users/31322g2iyb53g6dqgrwnqruhq5le',\n",
              " 'id': '31322g2iyb53g6dqgrwnqruhq5le',\n",
              " 'images': [{'height': None,\n",
              "   'url': 'https://platform-lookaside.fbsbx.com/platform/profilepic/?asid=1766232820359488&height=300&width=300&ext=1668358590&hash=AeSy47NYOkF6y8j8l0o',\n",
              "   'width': None}],\n",
              " 'type': 'user',\n",
              " 'uri': 'spotify:user:31322g2iyb53g6dqgrwnqruhq5le'}"
            ]
          },
          "execution_count": 12,
          "metadata": {},
          "output_type": "execute_result"
        }
      ],
      "source": [
        "#Check if user id and token is correct\n",
        "query = \"https://api.spotify.com/v1/me\"\n",
        "response = requests.get(query,headers = {\"Content-Type\":\"application/json\",\"Authorization\":f\"Bearer {user_token}\"})\n",
        "json_response = response.json()\n",
        "json_response"
      ]
    },
    {
      "cell_type": "markdown",
      "metadata": {
        "id": "m27Pqp9nXHkG"
      },
      "source": [
        "Getting number of liked songs"
      ]
    },
    {
      "cell_type": "code",
      "execution_count": 13,
      "metadata": {
        "colab": {
          "base_uri": "https://localhost:8080/"
        },
        "id": "tzMXEBJyWM_m",
        "outputId": "107dbcf1-9cd5-4946-b483-478eb6e21c00"
      },
      "outputs": [
        {
          "name": "stdout",
          "output_type": "stream",
          "text": [
            "418\n"
          ]
        }
      ],
      "source": [
        "query = 'https://api.spotify.com/v1/me/tracks?market=IN&ids=31322g2iyb53g6dqgrwnqruhq5le'\n",
        "response = requests.get(query,headers = {\"Content-Type\":\"application/json\",\"Authorization\":f\"Bearer {user_token}\",})\n",
        "json_response = response.json()\n",
        "total_liked_songs = json_response['total']\n",
        "print(total_liked_songs)"
      ]
    },
    {
      "cell_type": "markdown",
      "metadata": {
        "id": "f9thQx12rI-t"
      },
      "source": [
        "Getting all liked songs names and urls"
      ]
    },
    {
      "cell_type": "code",
      "execution_count": 14,
      "metadata": {
        "colab": {
          "base_uri": "https://localhost:8080/"
        },
        "id": "3AlYur2DrvWC",
        "outputId": "1210149f-ccfb-40aa-dfa3-fe37d3ac0104"
      },
      "outputs": [
        {
          "name": "stdout",
          "output_type": "stream",
          "text": [
            "418\n"
          ]
        }
      ],
      "source": [
        "total_tracks_gathered = 0\n",
        "uri = []\n",
        "while total_tracks_gathered<total_liked_songs:\n",
        "  query = f'https://api.spotify.com/v1/me/tracks?offset={total_tracks_gathered}&limit=50'\n",
        "  response = requests.get(query,headers = {\"Content-Type\":\"application/json\",\"Authorization\":f\"Bearer {user_token}\",})\n",
        "  json_response = response.json()\n",
        "  for j in json_response['items']:\n",
        "    uri.append(j['track']['uri'])\n",
        "    total_tracks_gathered += 1\n",
        "print(total_tracks_gathered)"
      ]
    },
    {
      "cell_type": "markdown",
      "metadata": {
        "id": "nq89nUOrygur"
      },
      "source": [
        "Creating a playlist"
      ]
    },
    {
      "cell_type": "code",
      "execution_count": 15,
      "metadata": {
        "id": "iXBK888nyb6l"
      },
      "outputs": [
        {
          "name": "stdout",
          "output_type": "stream",
          "text": [
            "{'collaborative': False, 'description': 'Made using spotify API..yipee', 'external_urls': {'spotify': 'https://open.spotify.com/playlist/2fXSJDVo4Gtr8RAzLMuLAg'}, 'followers': {'href': None, 'total': 0}, 'href': 'https://api.spotify.com/v1/playlists/2fXSJDVo4Gtr8RAzLMuLAg', 'id': '2fXSJDVo4Gtr8RAzLMuLAg', 'images': [], 'name': 'Nameless', 'owner': {'display_name': 'Soham Singhal', 'external_urls': {'spotify': 'https://open.spotify.com/user/31322g2iyb53g6dqgrwnqruhq5le'}, 'href': 'https://api.spotify.com/v1/users/31322g2iyb53g6dqgrwnqruhq5le', 'id': '31322g2iyb53g6dqgrwnqruhq5le', 'type': 'user', 'uri': 'spotify:user:31322g2iyb53g6dqgrwnqruhq5le'}, 'primary_color': None, 'public': True, 'snapshot_id': 'MSw1OGJjYmYwNWVjODViMjFiZGM3OTMzMGRkODE3ODc5OGE2ZWYxMWI5', 'tracks': {'href': 'https://api.spotify.com/v1/playlists/2fXSJDVo4Gtr8RAzLMuLAg/tracks', 'items': [], 'limit': 100, 'next': None, 'offset': 0, 'previous': None, 'total': 0}, 'type': 'playlist', 'uri': 'spotify:playlist:2fXSJDVo4Gtr8RAzLMuLAg'}\n"
          ]
        }
      ],
      "source": [
        "query = f\"https://api.spotify.com/v1/users/{user_id}/playlists\"\n",
        "#Add name and description as you please\n",
        "body = json.dumps({\"name\":\"Nameless\",\"description\":\"Made using spotify API..yipee\",\"public\":True})\n",
        "response = requests.post(url = query, data = body, headers={\"Content-Type\":\"application/json\",\"Authorization\": f\"Bearer {user_token}\"})\n",
        "json_response = response.json()\n",
        "print(json_response)"
      ]
    },
    {
      "cell_type": "code",
      "execution_count": 16,
      "metadata": {},
      "outputs": [
        {
          "name": "stdout",
          "output_type": "stream",
          "text": [
            "https://open.spotify.com/playlist/2fXSJDVo4Gtr8RAzLMuLAg\n"
          ]
        }
      ],
      "source": [
        "playlist_url = json_response[\"external_urls\"][\"spotify\"]\n",
        "print(playlist_url)"
      ]
    },
    {
      "cell_type": "code",
      "execution_count": 17,
      "metadata": {},
      "outputs": [
        {
          "name": "stdout",
          "output_type": "stream",
          "text": [
            "2fXSJDVo4Gtr8RAzLMuLAg\n"
          ]
        }
      ],
      "source": [
        "playlist_id = json_response[\"id\"]\n",
        "print(playlist_id)"
      ]
    },
    {
      "cell_type": "markdown",
      "metadata": {
        "id": "nq89nUOrygur"
      },
      "source": [
        "Add items to playlists"
      ]
    },
    {
      "cell_type": "code",
      "execution_count": 18,
      "metadata": {},
      "outputs": [],
      "source": [
        "query = f\"https://api.spotify.com/v1/playlists/{playlist_id}/tracks\"\n",
        "i = 0\n",
        "while len(uri)- 1 - i>=100:\n",
        "    body = json.dumps({\"uris\" : uri[i:i+100]})\n",
        "    response = requests.post(url=query,data = body, headers={\"Content-Type\":\"application/json\",\"Authorization\": f\"Bearer {user_token}\"})\n",
        "    i += 100\n",
        "if len(uri) != i:\n",
        "    body = json.dumps({\"uris\" : uri[i:]})\n",
        "    response = requests.post(url=query,data = body, headers={\"Content-Type\":\"application/json\",\"Authorization\": f\"Bearer {user_token}\"})"
      ]
    }
  ],
  "metadata": {
    "colab": {
      "provenance": []
    },
    "kernelspec": {
      "display_name": "Python 3.10.4 64-bit",
      "language": "python",
      "name": "python3"
    },
    "language_info": {
      "codemirror_mode": {
        "name": "ipython",
        "version": 3
      },
      "file_extension": ".py",
      "mimetype": "text/x-python",
      "name": "python",
      "nbconvert_exporter": "python",
      "pygments_lexer": "ipython3",
      "version": "3.10.4"
    },
    "vscode": {
      "interpreter": {
        "hash": "be20d9baef4cb16da3bb874a051575f4de8fa71c3db46c0a1dc20ae78601d456"
      }
    }
  },
  "nbformat": 4,
  "nbformat_minor": 0
}
