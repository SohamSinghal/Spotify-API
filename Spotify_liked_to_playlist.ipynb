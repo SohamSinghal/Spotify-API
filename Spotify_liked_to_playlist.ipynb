{
  "cells": [
    {
      "cell_type": "markdown",
      "metadata": {
        "id": "vtLPlAHMUaUt"
      },
      "source": [
        "<h2>Getting User ID</h2>\n",
        "<a href = \"https://www.spotify.com/us/account/overview/\">Account Overview</a>\n",
        "<h2>Get Token by using the User ID</h2>\n",
        "<h3>Make sure you tick the following scopes</h3>\n",
        "![Scopes](https://raw.githubusercontent.com/SohamSinghal/Spotify-API/master/Screenshots/likes_to_playlist.png)<br>\n",
        "<a href = \"https://developer.spotify.com/console/post-playlists/\">Token Generator </a>\n"
      ]
    },
    {
      "cell_type": "code",
      "execution_count": 1,
      "metadata": {
        "id": "AGIdf7KNT8uX"
      },
      "outputs": [],
      "source": [
        "import requests \n",
        "import json"
      ]
    },
    {
      "cell_type": "code",
      "execution_count": 2,
      "metadata": {
        "id": "1l9mkoMRUCW4"
      },
      "outputs": [],
      "source": [
        "user_id = \"31322g2iyb53g6dqgrwnqruhq5le\"\n",
        "#user token to be created everytime as it expires\n",
        "user_token = \"BQBS8q7VLPxu2GOdtGPw1zWWZJaodxPkY5GyXoyPM4tuHUtYu5VOzSQKIMYgmaNj3PsR-SNZz9rSacmWnMhylb6qAFng0v3Rk1okLqwTt_BGQmBOZ0ZcCxgMoKlyko4viTgUmW0JSRpuxTOo81dKCpI_9gM8BQtSBkZgKdCHah8kddu1B3U5zfnzA5LmpoqKN7VEAn_K_CNOIpnTVdSYq9iEjwiB2rVtbeFxaOdjD1HwU6leRVNbma9-vPM-8OOi2Rpg-1g3YAGhBam_-kTK-A\""
      ]
    },
    {
      "cell_type": "code",
      "execution_count": 3,
      "metadata": {
        "colab": {
          "base_uri": "https://localhost:8080/"
        },
        "id": "0RbUoCz0YvWb",
        "outputId": "1cac2e61-860f-46b6-ceae-a58fbfdc903b"
      },
      "outputs": [
        {
          "data": {
            "text/plain": [
              "{'display_name': 'Soham Singhal',\n",
              " 'external_urls': {'spotify': 'https://open.spotify.com/user/31322g2iyb53g6dqgrwnqruhq5le'},\n",
              " 'followers': {'href': None, 'total': 1},\n",
              " 'href': 'https://api.spotify.com/v1/users/31322g2iyb53g6dqgrwnqruhq5le',\n",
              " 'id': '31322g2iyb53g6dqgrwnqruhq5le',\n",
              " 'images': [{'height': None,\n",
              "   'url': 'https://platform-lookaside.fbsbx.com/platform/profilepic/?asid=1766232820359488&height=300&width=300&ext=1668358590&hash=AeSy47NYOkF6y8j8l0o',\n",
              "   'width': None}],\n",
              " 'type': 'user',\n",
              " 'uri': 'spotify:user:31322g2iyb53g6dqgrwnqruhq5le'}"
            ]
          },
          "execution_count": 3,
          "metadata": {},
          "output_type": "execute_result"
        }
      ],
      "source": [
        "#Check if user id and token is correct\n",
        "query = \"https://api.spotify.com/v1/me\"\n",
        "response = requests.get(query,headers = {\"Content-Type\":\"application/json\",\"Authorization\":f\"Bearer {user_token}\"})\n",
        "json_response = response.json()\n",
        "json_response"
      ]
    },
    {
      "cell_type": "markdown",
      "metadata": {
        "id": "m27Pqp9nXHkG"
      },
      "source": [
        "Getting number of liked songs"
      ]
    },
    {
      "cell_type": "code",
      "execution_count": 4,
      "metadata": {
        "colab": {
          "base_uri": "https://localhost:8080/"
        },
        "id": "tzMXEBJyWM_m",
        "outputId": "107dbcf1-9cd5-4946-b483-478eb6e21c00"
      },
      "outputs": [
        {
          "name": "stdout",
          "output_type": "stream",
          "text": [
            "419\n"
          ]
        }
      ],
      "source": [
        "query = 'https://api.spotify.com/v1/me/tracks?market=IN&ids=31322g2iyb53g6dqgrwnqruhq5le'\n",
        "response = requests.get(query,headers = {\"Content-Type\":\"application/json\",\"Authorization\":f\"Bearer {user_token}\",})\n",
        "json_response = response.json()\n",
        "total_liked_songs = json_response['total']\n",
        "print(total_liked_songs)"
      ]
    },
    {
      "cell_type": "markdown",
      "metadata": {
        "id": "f9thQx12rI-t"
      },
      "source": [
        "Getting all liked songs names and urls"
      ]
    },
    {
      "cell_type": "code",
      "execution_count": 5,
      "metadata": {
        "colab": {
          "base_uri": "https://localhost:8080/"
        },
        "id": "3AlYur2DrvWC",
        "outputId": "1210149f-ccfb-40aa-dfa3-fe37d3ac0104"
      },
      "outputs": [
        {
          "name": "stdout",
          "output_type": "stream",
          "text": [
            "419\n"
          ]
        }
      ],
      "source": [
        "total_tracks_gathered = 0\n",
        "uri = []\n",
        "while total_tracks_gathered<total_liked_songs:\n",
        "  query = f'https://api.spotify.com/v1/me/tracks?offset={total_tracks_gathered}&limit=50'\n",
        "  response = requests.get(query,headers = {\"Content-Type\":\"application/json\",\"Authorization\":f\"Bearer {user_token}\",})\n",
        "  json_response = response.json()\n",
        "  for j in json_response['items']:\n",
        "    uri.append(j['track']['uri'])\n",
        "    total_tracks_gathered += 1\n",
        "print(total_tracks_gathered)"
      ]
    },
    {
      "cell_type": "markdown",
      "metadata": {
        "id": "nq89nUOrygur"
      },
      "source": [
        "Creating a playlist<br>\n",
        "Change name and description"
      ]
    },
    {
      "cell_type": "code",
      "execution_count": 6,
      "metadata": {
        "id": "iXBK888nyb6l"
      },
      "outputs": [],
      "source": [
        "query = \"https://api.spotify.com/v1/users/{}/playlists\".format(user_id)\n",
        "body = json.dumps({\"name\": \"Nameless\",\"description\": \"First playlist with spotify api...yipee(Man I'm lame)\",\"public\": True})\n",
        "response = requests.post(url = query, data = body, headers={\"Content-Type\":\"application/json\", \"Authorization\": \"Bearer {}\".format(user_token)})\n",
        "json_response = response.json()"
      ]
    },
    {
      "cell_type": "code",
      "execution_count": 7,
      "metadata": {},
      "outputs": [
        {
          "name": "stdout",
          "output_type": "stream",
          "text": [
            "https://open.spotify.com/playlist/2vTiNdJBnhKlYutHsIL22O\n"
          ]
        }
      ],
      "source": [
        "playlist_url = json_response['external_urls']['spotify']\n",
        "print(playlist_url)"
      ]
    },
    {
      "cell_type": "code",
      "execution_count": 8,
      "metadata": {},
      "outputs": [
        {
          "name": "stdout",
          "output_type": "stream",
          "text": [
            "2vTiNdJBnhKlYutHsIL22O\n"
          ]
        }
      ],
      "source": [
        "playlist_id = json_response['id']\n",
        "print(playlist_id)"
      ]
    }
  ],
  "metadata": {
    "colab": {
      "provenance": []
    },
    "kernelspec": {
      "display_name": "Python 3.10.4 64-bit",
      "language": "python",
      "name": "python3"
    },
    "language_info": {
      "codemirror_mode": {
        "name": "ipython",
        "version": 3
      },
      "file_extension": ".py",
      "mimetype": "text/x-python",
      "name": "python",
      "nbconvert_exporter": "python",
      "pygments_lexer": "ipython3",
      "version": "3.10.4"
    },
    "vscode": {
      "interpreter": {
        "hash": "be20d9baef4cb16da3bb874a051575f4de8fa71c3db46c0a1dc20ae78601d456"
      }
    }
  },
  "nbformat": 4,
  "nbformat_minor": 0
}
